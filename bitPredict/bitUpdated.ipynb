{
 "cells": [
  {
   "cell_type": "code",
   "execution_count": 5,
   "id": "aa868c78",
   "metadata": {},
   "outputs": [
    {
     "name": "stdout",
     "output_type": "stream",
     "text": [
      "Please enter number of future days to predict :10\n",
      "                    Open          High           Low         Close  \\\n",
      "Date                                                                 \n",
      "2021-04-18  60701.886719  61057.457031  52829.535156  56216.183594   \n",
      "2021-04-19  56191.585938  57520.054688  54368.593750  55724.265625   \n",
      "2021-04-20  55681.792969  57062.148438  53448.046875  56473.031250   \n",
      "2021-04-21  56471.128906  56757.972656  53695.468750  53906.089844   \n",
      "2021-04-22  53857.105469  55410.230469  50583.812500  51762.273438   \n",
      "\n",
      "               Adj Close        Volume  \n",
      "Date                                    \n",
      "2021-04-18  56216.183594  9.746887e+10  \n",
      "2021-04-19  55724.265625  6.534487e+10  \n",
      "2021-04-20  56473.031250  6.784932e+10  \n",
      "2021-04-21  53906.089844  5.492661e+10  \n",
      "2021-04-22  51762.273438  7.479863e+10  \n",
      "366\n"
     ]
    }
   ],
   "source": [
    "import pandas as pd\n",
    "import numpy as np\n",
    "import matplotlib.pyplot as plt\n",
    "from sklearn.preprocessing import MinMaxScaler, StandardScaler\n",
    "import tensorflow as tf\n",
    "from tensorflow import keras\n",
    "from tensorflow.keras.models import Sequential\n",
    "from tensorflow.keras.layers import Dense, LSTM, Dropout\n",
    "\n",
    "future_days = input(\"Please enter number of future days to predict :\")\n",
    "future_days = int(future_days)\n",
    "#print(dir(keras.losses))\n",
    "\n",
    "#Data import.\n",
    "\n",
    "#data = pd.read_csv(\"short.csv\",index_col='date', parse_dates=True)\n",
    "#data = pd.read_csv(\"2021_2022.csv\", index_col=0, parse_dates=True, header=None)\n",
    "data = pd.read_csv(\"2021_2022.csv\", index_col=0, parse_dates=True)\n",
    "data = data.astype('float')\n",
    "print(data.head())\n",
    "datelist_train = list(data.index)\n",
    "print(len(data))\n",
    "#data.drop('out', axis='columns', inplace=True)\n",
    "#data.plot()\n",
    "#data2.plot()"
   ]
  },
  {
   "cell_type": "code",
   "execution_count": 6,
   "id": "7d871221",
   "metadata": {},
   "outputs": [],
   "source": [
    "#Scale data to a range of -1,1 and split to training and testing set.\n",
    "scaler = StandardScaler()\n",
    "scaler = scaler.fit(data)\n",
    "dataset = scaler.transform(data)\n",
    "train_data = int(len(dataset) * 0.9)\n",
    "test_data = (int(len(dataset) - train_data ))\n",
    "train, test = dataset[0:train_data], dataset[train_data:len(dataset)]\n",
    "\n"
   ]
  },
  {
   "cell_type": "code",
   "execution_count": 7,
   "id": "e942e036",
   "metadata": {},
   "outputs": [
    {
     "name": "stdout",
     "output_type": "stream",
     "text": [
      "(315, 14, 6)\n",
      "(315, 1)\n"
     ]
    }
   ],
   "source": [
    "# Reshape data to lenght, timesteps and number of features.\n",
    "n_future = 1 \n",
    "n_past = 14 \n",
    "def create_dataset(my_data, n_future, n_past):\n",
    "    dataX = []\n",
    "    dataY = []\n",
    "    for i in range(n_past, len(my_data) - n_future +1):\n",
    "        dataX.append(my_data[i - n_past:i, 0:my_data.shape[1]])\n",
    "        dataY.append(my_data[i + n_future - 1:i + n_future, 0])\n",
    "    return np.array(dataX), np.array(dataY)\n",
    "trainX, trainY = create_dataset(train, n_future, n_past)\n",
    "testX, testY = create_dataset(test, n_future, n_past)\n",
    "print(trainX.shape)\n",
    "print(trainY.shape)"
   ]
  },
  {
   "cell_type": "code",
   "execution_count": 8,
   "id": "e8245d6f",
   "metadata": {},
   "outputs": [
    {
     "name": "stdout",
     "output_type": "stream",
     "text": [
      "Epoch 1/5\n",
      "95/95 [==============================] - 4s 16ms/step - loss: 0.2641 - val_loss: 0.0977\n",
      "Epoch 2/5\n",
      "95/95 [==============================] - 1s 16ms/step - loss: 0.1427 - val_loss: 0.0852\n",
      "Epoch 3/5\n",
      "95/95 [==============================] - 1s 15ms/step - loss: 0.1147 - val_loss: 0.0502\n",
      "Epoch 4/5\n",
      "95/95 [==============================] - 1s 13ms/step - loss: 0.0807 - val_loss: 0.0428\n",
      "Epoch 5/5\n",
      "95/95 [==============================] - 1s 13ms/step - loss: 0.0824 - val_loss: 0.0321\n",
      "Model: \"sequential_1\"\n",
      "_________________________________________________________________\n",
      " Layer (type)                Output Shape              Param #   \n",
      "=================================================================\n",
      " lstm_2 (LSTM)               (None, 14, 64)            18176     \n",
      "                                                                 \n",
      " lstm_3 (LSTM)               (None, 32)                12416     \n",
      "                                                                 \n",
      " dropout_1 (Dropout)         (None, 32)                0         \n",
      "                                                                 \n",
      " dense_1 (Dense)             (None, 1)                 33        \n",
      "                                                                 \n",
      "=================================================================\n",
      "Total params: 30,625\n",
      "Trainable params: 30,625\n",
      "Non-trainable params: 0\n",
      "_________________________________________________________________\n"
     ]
    }
   ],
   "source": [
    "#RNN model  starts.\n",
    "model = Sequential()\n",
    "model.add(LSTM(64, activation='relu', input_shape=(trainX.shape[1], trainX.shape[2]), return_sequences=True))\n",
    "model.add(LSTM(32, activation='relu', return_sequences=False))\n",
    "model.add(Dropout(0.2))\n",
    "model.add(Dense(trainY.shape[1]))\n",
    "model.compile(optimizer='adam', loss='mse')\n",
    "history = model.fit(trainX, trainY, epochs=5,validation_split=0.1, batch_size=3)\n",
    "model.summary()"
   ]
  },
  {
   "cell_type": "code",
   "execution_count": 9,
   "id": "badadd7c",
   "metadata": {},
   "outputs": [
    {
     "data": {
      "text/plain": [
       "<matplotlib.legend.Legend at 0x7f1620ad4460>"
      ]
     },
     "execution_count": 9,
     "metadata": {},
     "output_type": "execute_result"
    },
    {
     "data": {
      "image/png": "[encoded data removed]",
      "text/plain": [
       "<Figure size 432x288 with 1 Axes>"
      ]
     },
     "metadata": {
      "needs_background": "light"
     },
     "output_type": "display_data"
    }
   ],
   "source": [
    "# Plot model loss comparison.\n",
    "plt.plot(history.history['loss'], label='Training loss')\n",
    "plt.plot(history.history['val_loss'], label='Validation loss')\n",
    "plt.legend()"
   ]
  },
  {
   "cell_type": "code",
   "execution_count": 10,
   "id": "47998222",
   "metadata": {},
   "outputs": [],
   "source": [
    "# Create future date list.\n",
    "future_prediction_real = future_days\n",
    "datelist_future = pd.date_range(datelist_train[-1], periods=future_prediction_real, freq='1d').tolist()"
   ]
  },
  {
   "cell_type": "code",
   "execution_count": 11,
   "id": "61fad283",
   "metadata": {},
   "outputs": [
    {
     "name": "stdout",
     "output_type": "stream",
     "text": [
      "(10, 1)\n"
     ]
    }
   ],
   "source": [
    "# Predict future days.\n",
    "prediction = model.predict(trainX[-future_prediction_real:])\n",
    "print(prediction.shape)\n",
    "prediction_copies = np.repeat(prediction, data.shape[1], axis=-1)\n",
    "y_pred_future = scaler.inverse_transform(prediction_copies)[:,0]"
   ]
  },
  {
   "cell_type": "code",
   "execution_count": 12,
   "id": "0ef92931",
   "metadata": {},
   "outputs": [],
   "source": [
    "# Create date list table and future pediction table and combine side by side.\n",
    "datelist_future_ = []\n",
    "for i in datelist_future:\n",
    "    datelist_future_.append(i.date())"
   ]
  },
  {
   "cell_type": "code",
   "execution_count": 13,
   "id": "5155b949",
   "metadata": {},
   "outputs": [],
   "source": [
    "data_forecust = pd.DataFrame({'FutureDates':np.array(datelist_future), 'Prediction':y_pred_future})\n",
    "data_forecust['FutureDates']=pd.to_datetime(data_forecust['FutureDates'])"
   ]
  },
  {
   "cell_type": "code",
   "execution_count": 14,
   "id": "a5b22460",
   "metadata": {},
   "outputs": [
    {
     "name": "stdout",
     "output_type": "stream",
     "text": [
      "  FutureDates    Prediction\n",
      "0  2022-04-18  42434.613281\n",
      "1  2022-04-19  42879.027344\n",
      "2  2022-04-20  42066.394531\n",
      "3  2022-04-21  41259.726562\n",
      "4  2022-04-22  40385.164062\n",
      "5  2022-04-23  39429.250000\n",
      "6  2022-04-24  38913.140625\n",
      "7  2022-04-25  39435.394531\n",
      "8  2022-04-26  39620.351562\n",
      "9  2022-04-27  39426.523438\n"
     ]
    }
   ],
   "source": [
    "print(pd.DataFrame(data_forecust))"
   ]
  },
  {
   "cell_type": "code",
   "execution_count": null,
   "id": "ecb3a96a",
   "metadata": {},
   "outputs": [],
   "source": []
  }
 ],
 "metadata": {
  "kernelspec": {
   "display_name": "Python 3 (ipykernel)",
   "language": "python",
   "name": "python3"
  },
  "language_info": {
   "codemirror_mode": {
    "name": "ipython",
    "version": 3
   },
   "file_extension": ".py",
   "mimetype": "text/x-python",
   "name": "python",
   "nbconvert_exporter": "python",
   "pygments_lexer": "ipython3",
   "version": "3.8.10"
  }
 },
 "nbformat": 4,
 "nbformat_minor": 5
}
